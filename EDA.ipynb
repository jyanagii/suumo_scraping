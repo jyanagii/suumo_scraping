{
 "cells": [
  {
   "cell_type": "code",
   "execution_count": 1,
   "metadata": {},
   "outputs": [],
   "source": [
    "import pandas as pd"
   ]
  },
  {
   "cell_type": "code",
   "execution_count": 4,
   "metadata": {},
   "outputs": [
    {
     "data": {
      "text/plain": [
       "15206"
      ]
     },
     "execution_count": 4,
     "metadata": {},
     "output_type": "execute_result"
    }
   ],
   "source": [
    "df = pd.read_csv(\"//Users/yanagii/Code/suumo/20221229suumo_scraping_result_50m2_u250k.csv\")\n",
    "df_uniq = df.drop_duplicates(subset=[\"URL\"])\n",
    "len(df_uniq)"
   ]
  },
  {
   "cell_type": "code",
   "execution_count": 7,
   "metadata": {},
   "outputs": [
    {
     "data": {
      "text/plain": [
       "Index(['名称', 'カテゴリー', 'アドレス', 'アクセス', '築年数', '構造', '階数', '家賃', '管理費', '敷金',\n",
       "       '礼金', '間取り', '面積', 'URL'],\n",
       "      dtype='object')"
      ]
     },
     "execution_count": 7,
     "metadata": {},
     "output_type": "execute_result"
    }
   ],
   "source": [
    "df_uniq.columns"
   ]
  },
  {
   "cell_type": "code",
   "execution_count": 19,
   "metadata": {},
   "outputs": [
    {
     "data": {
      "text/plain": [
       "築年数\n",
       "新築        2391\n",
       "築34年       498\n",
       "築33年       489\n",
       "築32年       476\n",
       "築28年       426\n",
       "築30年       387\n",
       "築31年       363\n",
       "築20年       360\n",
       "築29年       352\n",
       "築19年       337\n",
       "築26年       336\n",
       "築35年       332\n",
       "築27年       326\n",
       "築16年       306\n",
       "築25年       304\n",
       "築24年       298\n",
       "築15年       298\n",
       "築23年       291\n",
       "築18年       291\n",
       "築36年       278\n",
       "築21年       250\n",
       "築22年       247\n",
       "築3年        241\n",
       "築17年       240\n",
       "築2年        230\n",
       "築14年       221\n",
       "築12年       220\n",
       "築38年       214\n",
       "築4年        209\n",
       "築39年       194\n",
       "築13年       192\n",
       "築8年        189\n",
       "築44年       187\n",
       "築9年        187\n",
       "築37年       183\n",
       "築43年       176\n",
       "築7年        172\n",
       "築5年        168\n",
       "築45年       167\n",
       "築40年       160\n",
       "築11年       160\n",
       "築10年       149\n",
       "築6年        139\n",
       "築41年       135\n",
       "築42年       135\n",
       "築46年       131\n",
       "築1年        129\n",
       "築52年       108\n",
       "築53年        99\n",
       "築47年        98\n",
       "築50年        92\n",
       "築51年        80\n",
       "築48年        72\n",
       "築54年        67\n",
       "築55年        62\n",
       "築49年        61\n",
       "築59年        44\n",
       "築58年        39\n",
       "築57年        30\n",
       "築56年        27\n",
       "築60年        26\n",
       "築61年        26\n",
       "築64年        22\n",
       "築62年        21\n",
       "築0年         15\n",
       "築63年        13\n",
       "築66年        10\n",
       "築72年         5\n",
       "築65年         5\n",
       "築99年以上       4\n",
       "築74年         3\n",
       "築70年         2\n",
       "築73年         2\n",
       "築92年         2\n",
       "築69年         1\n",
       "築71年         1\n",
       "築78年         1\n",
       "築68年         1\n",
       "築81年         1\n",
       "築91年         1\n",
       "築97年         1\n",
       "dtype: int64"
      ]
     },
     "execution_count": 19,
     "metadata": {},
     "output_type": "execute_result"
    }
   ],
   "source": [
    "df_uniq.groupby(\"築年数\").size().sort_values(ascending=False)"
   ]
  },
  {
   "cell_type": "code",
   "execution_count": 10,
   "metadata": {},
   "outputs": [
    {
     "data": {
      "text/plain": [
       "60"
      ]
     },
     "execution_count": 10,
     "metadata": {},
     "output_type": "execute_result"
    }
   ],
   "source": [
    "pd.options.display.max_rows"
   ]
  },
  {
   "cell_type": "code",
   "execution_count": 11,
   "metadata": {},
   "outputs": [],
   "source": [
    "pd.options.display.max_rows = 150"
   ]
  },
  {
   "cell_type": "code",
   "execution_count": 21,
   "metadata": {},
   "outputs": [
    {
     "data": {
      "text/plain": [
       "家賃\n",
       "12万円       357\n",
       "15万円       352\n",
       "22万円       347\n",
       "18万円       330\n",
       "20万円       318\n",
       "          ... \n",
       "16.74万円      1\n",
       "16.75万円      1\n",
       "17.04万円      1\n",
       "17.26万円      1\n",
       "10.07万円      1\n",
       "Length: 364, dtype: int64"
      ]
     },
     "execution_count": 21,
     "metadata": {},
     "output_type": "execute_result"
    }
   ],
   "source": [
    "df_uniq.groupby(\"家賃\").size().sort_values(ascending=False)"
   ]
  },
  {
   "cell_type": "code",
   "execution_count": 22,
   "metadata": {},
   "outputs": [],
   "source": [
    "df_uniq.to_csv(\"./20221229suumo_scraping_result_50m2_u250k_uniq.csv\")"
   ]
  },
  {
   "cell_type": "code",
   "execution_count": null,
   "metadata": {},
   "outputs": [],
   "source": []
  }
 ],
 "metadata": {
  "kernelspec": {
   "display_name": "Python 3",
   "language": "python",
   "name": "python3"
  },
  "language_info": {
   "codemirror_mode": {
    "name": "ipython",
    "version": 3
   },
   "file_extension": ".py",
   "mimetype": "text/x-python",
   "name": "python",
   "nbconvert_exporter": "python",
   "pygments_lexer": "ipython3",
   "version": "3.10.8"
  },
  "orig_nbformat": 4,
  "vscode": {
   "interpreter": {
    "hash": "fedc3d346fb2b2200a4104479bfe2b4cab5e545abe64e5f0d8f61c430b9c343f"
   }
  }
 },
 "nbformat": 4,
 "nbformat_minor": 2
}
